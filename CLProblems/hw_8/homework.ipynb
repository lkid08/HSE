{
 "cells": [
  {
   "cell_type": "markdown",
   "id": "4ca384d0-da9b-41bc-a902-ee069922c0c2",
   "metadata": {},
   "source": [
    "## Домашка (10 баллов)\n",
    "\n",
    "\n",
    "Обучите модель с минимум 15 слоями, где у каждого слоя разные параметры (Dropout, Conv1d и Pooling, Dense считаются слоями, остальное нет). Как мимнимум 4 слоя должны быть наложены друг на друга и как минимум 2 параллельных слоя (последовательности слоев). Должен быть хотя бы один слой каждого типа.\n",
    "\n",
    "При обучении используйте колбек для отслеживания лучшей модели. Ориентируйтесь на ф1 меру. Качество модели не должно быть околонулевым. Если метрики не растут, то попробуйте пообучать подольше или перестроить саму сеть.\n",
    "\n",
    "Советы: Начните с небольших сетей и постепенно добавляйте, не пытайтесь сразу собрать все слои. Иногда кернел может крашиться просто так или из-за слишком больших матриц.\n"
   ]
  },
  {
   "cell_type": "markdown",
   "id": "66b1f8ec",
   "metadata": {},
   "source": [
    "# Results:"
   ]
  },
  {
   "cell_type": "markdown",
   "id": "2dcb010f-90e2-4a23-bbdd-4b6df8a94c31",
   "metadata": {},
   "source": [
    "##### 15 layers (only count Dropout, Conv1d, Pooling, Dense):\n",
    "\n",
    "+ Conv1d - 4\n",
    "+ Pooling - 4\n",
    "+ Dense, fully connected (2 parallel) - 4\n",
    "+ Dropout - 3\n",
    "\n",
    "##### Requirements:\n",
    "+ each layer - different parameters +\n",
    "+ 4 layers - fully connected +\n",
    "+ 2 layers - parallel +\n",
    "+ callback - best model (monitor = \"f1\") +\n",
    "+ F1 >70% (94%) +"
   ]
  },
  {
   "cell_type": "code",
   "execution_count": 1,
   "id": "090501eb",
   "metadata": {},
   "outputs": [
    {
     "name": "stdout",
     "output_type": "stream",
     "text": [
      "Requirement already satisfied: torch in c:\\users\\nikol\\onedrive\\desktop\\hse_projects\\.venv\\lib\\site-packages (2.2.0)\n",
      "Requirement already satisfied: pandas in c:\\users\\nikol\\onedrive\\desktop\\hse_projects\\.venv\\lib\\site-packages (2.0.3)\n",
      "Requirement already satisfied: scikit-learn in c:\\users\\nikol\\onedrive\\desktop\\hse_projects\\.venv\\lib\\site-packages (1.3.2)\n",
      "Requirement already satisfied: matplotlib in c:\\users\\nikol\\onedrive\\desktop\\hse_projects\\.venv\\lib\\site-packages (3.7.4)\n",
      "Requirement already satisfied: sympy in c:\\users\\nikol\\onedrive\\desktop\\hse_projects\\.venv\\lib\\site-packages (from torch) (1.12)\n",
      "Requirement already satisfied: filelock in c:\\users\\nikol\\onedrive\\desktop\\hse_projects\\.venv\\lib\\site-packages (from torch) (3.13.1)\n",
      "Requirement already satisfied: typing-extensions>=4.8.0 in c:\\users\\nikol\\onedrive\\desktop\\hse_projects\\.venv\\lib\\site-packages (from torch) (4.9.0)\n",
      "Requirement already satisfied: jinja2 in c:\\users\\nikol\\onedrive\\desktop\\hse_projects\\.venv\\lib\\site-packages (from torch) (3.1.3)\n",
      "Requirement already satisfied: networkx in c:\\users\\nikol\\onedrive\\desktop\\hse_projects\\.venv\\lib\\site-packages (from torch) (3.1)\n",
      "Requirement already satisfied: fsspec in c:\\users\\nikol\\onedrive\\desktop\\hse_projects\\.venv\\lib\\site-packages (from torch) (2024.2.0)\n",
      "Requirement already satisfied: tzdata>=2022.1 in c:\\users\\nikol\\onedrive\\desktop\\hse_projects\\.venv\\lib\\site-packages (from pandas) (2023.4)\n",
      "Requirement already satisfied: numpy>=1.20.3 in c:\\users\\nikol\\onedrive\\desktop\\hse_projects\\.venv\\lib\\site-packages (from pandas) (1.24.4)\n",
      "Requirement already satisfied: python-dateutil>=2.8.2 in c:\\users\\nikol\\onedrive\\desktop\\hse_projects\\.venv\\lib\\site-packages (from pandas) (2.8.2)\n",
      "Requirement already satisfied: pytz>=2020.1 in c:\\users\\nikol\\onedrive\\desktop\\hse_projects\\.venv\\lib\\site-packages (from pandas) (2024.1)\n",
      "Requirement already satisfied: six>=1.5 in c:\\users\\nikol\\onedrive\\desktop\\hse_projects\\.venv\\lib\\site-packages (from python-dateutil>=2.8.2->pandas) (1.16.0)\n",
      "Requirement already satisfied: scipy>=1.5.0 in c:\\users\\nikol\\onedrive\\desktop\\hse_projects\\.venv\\lib\\site-packages (from scikit-learn) (1.10.1)\n",
      "Requirement already satisfied: threadpoolctl>=2.0.0 in c:\\users\\nikol\\onedrive\\desktop\\hse_projects\\.venv\\lib\\site-packages (from scikit-learn) (3.2.0)\n",
      "Requirement already satisfied: joblib>=1.1.1 in c:\\users\\nikol\\onedrive\\desktop\\hse_projects\\.venv\\lib\\site-packages (from scikit-learn) (1.3.2)\n",
      "Requirement already satisfied: importlib-resources>=3.2.0 in c:\\users\\nikol\\onedrive\\desktop\\hse_projects\\.venv\\lib\\site-packages (from matplotlib) (6.1.1)\n",
      "Requirement already satisfied: pillow>=6.2.0 in c:\\users\\nikol\\onedrive\\desktop\\hse_projects\\.venv\\lib\\site-packages (from matplotlib) (10.2.0)\n",
      "Requirement already satisfied: pyparsing>=2.3.1 in c:\\users\\nikol\\onedrive\\desktop\\hse_projects\\.venv\\lib\\site-packages (from matplotlib) (3.1.1)\n",
      "Requirement already satisfied: cycler>=0.10 in c:\\users\\nikol\\onedrive\\desktop\\hse_projects\\.venv\\lib\\site-packages (from matplotlib) (0.12.1)\n",
      "Requirement already satisfied: packaging>=20.0 in c:\\users\\nikol\\onedrive\\desktop\\hse_projects\\.venv\\lib\\site-packages (from matplotlib) (23.2)\n",
      "Requirement already satisfied: fonttools>=4.22.0 in c:\\users\\nikol\\onedrive\\desktop\\hse_projects\\.venv\\lib\\site-packages (from matplotlib) (4.48.1)\n",
      "Requirement already satisfied: kiwisolver>=1.0.1 in c:\\users\\nikol\\onedrive\\desktop\\hse_projects\\.venv\\lib\\site-packages (from matplotlib) (1.4.5)\n",
      "Requirement already satisfied: contourpy>=1.0.1 in c:\\users\\nikol\\onedrive\\desktop\\hse_projects\\.venv\\lib\\site-packages (from matplotlib) (1.1.1)\n",
      "Requirement already satisfied: zipp>=3.1.0 in c:\\users\\nikol\\onedrive\\desktop\\hse_projects\\.venv\\lib\\site-packages (from importlib-resources>=3.2.0->matplotlib) (3.17.0)\n",
      "Requirement already satisfied: MarkupSafe>=2.0 in c:\\users\\nikol\\onedrive\\desktop\\hse_projects\\.venv\\lib\\site-packages (from jinja2->torch) (2.1.5)\n",
      "Requirement already satisfied: mpmath>=0.19 in c:\\users\\nikol\\onedrive\\desktop\\hse_projects\\.venv\\lib\\site-packages (from sympy->torch) (1.3.0)\n"
     ]
    },
    {
     "name": "stderr",
     "output_type": "stream",
     "text": [
      "WARNING: You are using pip version 21.1.1; however, version 24.0 is available.\n",
      "You should consider upgrading via the 'c:\\users\\nikol\\onedrive\\desktop\\hse_projects\\.venv\\scripts\\python.exe -m pip install --upgrade pip' command.\n"
     ]
    }
   ],
   "source": [
    "!pip install torch pandas scikit-learn matplotlib"
   ]
  },
  {
   "cell_type": "code",
   "execution_count": 2,
   "id": "16e3c1d0",
   "metadata": {},
   "outputs": [],
   "source": [
    "import torch\n",
    "import torch.nn as nn\n",
    "import torch.nn.functional as F\n",
    "import torch.optim as optim\n",
    "import torch.utils.data\n",
    "\n",
    "import pandas as pd\n",
    "import numpy as np\n",
    "from string import punctuation\n",
    "from sklearn.model_selection import train_test_split\n",
    "from collections import Counter\n",
    "import matplotlib.pyplot as plt\n",
    "%matplotlib inline"
   ]
  },
  {
   "cell_type": "code",
   "execution_count": 3,
   "id": "bd215d59",
   "metadata": {},
   "outputs": [
    {
     "data": {
      "text/html": [
       "<div>\n",
       "<style scoped>\n",
       "    .dataframe tbody tr th:only-of-type {\n",
       "        vertical-align: middle;\n",
       "    }\n",
       "\n",
       "    .dataframe tbody tr th {\n",
       "        vertical-align: top;\n",
       "    }\n",
       "\n",
       "    .dataframe thead th {\n",
       "        text-align: right;\n",
       "    }\n",
       "</style>\n",
       "<table border=\"1\" class=\"dataframe\">\n",
       "  <thead>\n",
       "    <tr style=\"text-align: right;\">\n",
       "      <th></th>\n",
       "      <th>title</th>\n",
       "      <th>text</th>\n",
       "      <th>topic</th>\n",
       "      <th>topic_label</th>\n",
       "    </tr>\n",
       "  </thead>\n",
       "  <tbody>\n",
       "    <tr>\n",
       "      <th>0</th>\n",
       "      <td>Инфляция в январе 2006 года составит 2,6 процента</td>\n",
       "      <td>Глава Росстата Владимир Соколин заявил, что в ...</td>\n",
       "      <td>Экономика</td>\n",
       "      <td>0</td>\n",
       "    </tr>\n",
       "    <tr>\n",
       "      <th>1</th>\n",
       "      <td>Никита Михалков учредил День российского кино</td>\n",
       "      <td>У российских кинематографистов  появится новый...</td>\n",
       "      <td>Культура</td>\n",
       "      <td>3</td>\n",
       "    </tr>\n",
       "    <tr>\n",
       "      <th>2</th>\n",
       "      <td>Марко Матерацци вернется в строй к матчу с ЦСКА</td>\n",
       "      <td>Медицинский штаб миланского \"Интера\" обнародов...</td>\n",
       "      <td>Спорт</td>\n",
       "      <td>1</td>\n",
       "    </tr>\n",
       "    <tr>\n",
       "      <th>3</th>\n",
       "      <td>Определены лауреаты премии \"Книга года\"</td>\n",
       "      <td>Премии \"Книга года\" в 13 номинациях вручены на...</td>\n",
       "      <td>Культура</td>\n",
       "      <td>3</td>\n",
       "    </tr>\n",
       "    <tr>\n",
       "      <th>4</th>\n",
       "      <td>Гол Роналду со штрафного спас португальцев от ...</td>\n",
       "      <td>Сборная Португалии сыграла вничью с командой И...</td>\n",
       "      <td>Спорт</td>\n",
       "      <td>1</td>\n",
       "    </tr>\n",
       "  </tbody>\n",
       "</table>\n",
       "</div>"
      ],
      "text/plain": [
       "                                               title  \\\n",
       "0  Инфляция в январе 2006 года составит 2,6 процента   \n",
       "1      Никита Михалков учредил День российского кино   \n",
       "2    Марко Матерацци вернется в строй к матчу с ЦСКА   \n",
       "3            Определены лауреаты премии \"Книга года\"   \n",
       "4  Гол Роналду со штрафного спас португальцев от ...   \n",
       "\n",
       "                                                text      topic  topic_label  \n",
       "0  Глава Росстата Владимир Соколин заявил, что в ...  Экономика            0  \n",
       "1  У российских кинематографистов  появится новый...   Культура            3  \n",
       "2  Медицинский штаб миланского \"Интера\" обнародов...      Спорт            1  \n",
       "3  Премии \"Книга года\" в 13 номинациях вручены на...   Культура            3  \n",
       "4  Сборная Португалии сыграла вничью с командой И...      Спорт            1  "
      ]
     },
     "execution_count": 3,
     "metadata": {},
     "output_type": "execute_result"
    }
   ],
   "source": [
    "data = pd.read_csv(r\"C:\\Users\\nikol\\OneDrive\\Desktop\\HSE_projects\\data\\lenta-ru-train.csv\", encoding='utf-8')\n",
    "data.head()"
   ]
  },
  {
   "cell_type": "code",
   "execution_count": 4,
   "id": "f86779a4",
   "metadata": {},
   "outputs": [],
   "source": [
    "data.dropna(subset=['topic', 'text'], inplace=True)"
   ]
  },
  {
   "cell_type": "code",
   "execution_count": 5,
   "id": "b484ef37",
   "metadata": {},
   "outputs": [],
   "source": [
    "def preprocess(text):\n",
    "    tokens = text.lower().split()\n",
    "    tokens = [token.strip(punctuation) for token in tokens]\n",
    "    return tokens"
   ]
  },
  {
   "cell_type": "code",
   "execution_count": 6,
   "id": "e1fe6cbb",
   "metadata": {},
   "outputs": [],
   "source": [
    "vocab = Counter()\n",
    "\n",
    "for text in data.text:\n",
    "    vocab.update(preprocess(text))"
   ]
  },
  {
   "cell_type": "code",
   "execution_count": 7,
   "id": "5993b9f0",
   "metadata": {},
   "outputs": [
    {
     "data": {
      "text/plain": [
       "745739"
      ]
     },
     "execution_count": 7,
     "metadata": {},
     "output_type": "execute_result"
    }
   ],
   "source": [
    "len(vocab)"
   ]
  },
  {
   "cell_type": "code",
   "execution_count": 8,
   "id": "7e2ed9ce",
   "metadata": {},
   "outputs": [
    {
     "data": {
      "text/plain": [
       "68212"
      ]
     },
     "execution_count": 8,
     "metadata": {},
     "output_type": "execute_result"
    }
   ],
   "source": [
    "filtered_vocab = set()\n",
    "\n",
    "for word in vocab:\n",
    "    if vocab[word] > 30:\n",
    "        filtered_vocab.add(word)\n",
    "len(filtered_vocab)"
   ]
  },
  {
   "cell_type": "code",
   "execution_count": 9,
   "id": "cc0c979e",
   "metadata": {},
   "outputs": [],
   "source": [
    "word2id = {'PAD':0}\n",
    "\n",
    "for word in filtered_vocab:\n",
    "    word2id[word] = len(word2id)"
   ]
  },
  {
   "cell_type": "code",
   "execution_count": 10,
   "id": "91c39262",
   "metadata": {},
   "outputs": [],
   "source": [
    "id2word = {i:word for word, i in word2id.items()}"
   ]
  },
  {
   "cell_type": "code",
   "execution_count": 11,
   "id": "3751df54",
   "metadata": {},
   "outputs": [],
   "source": [
    "class Dataset(torch.utils.data.Dataset):\n",
    "    def __init__(self, word2id, MAX_LEN, texts, targets):\n",
    "        self.texts = [torch.LongTensor([word2id[w] for w in self.preprocess(t) if w in word2id][:MAX_LEN]) for t in texts]\n",
    "        self.texts = torch.nn.utils.rnn.pad_sequence(self.texts, batch_first=True)\n",
    "        \n",
    "        self.word2id = word2id\n",
    "        self.MAX_LEN = MAX_LEN\n",
    "        self.length = len(texts)\n",
    "        \n",
    "        self.target = torch.LongTensor(targets)\n",
    "\n",
    "    def __len__(self):\n",
    "        return self.length\n",
    "\n",
    "    def __getitem__(self, index):\n",
    "        ids = self.texts[index]\n",
    "        y = self.target[index]\n",
    "\n",
    "        return ids, y\n",
    "    \n",
    "    def preprocess(self, text):\n",
    "        tokens = text.lower().split()\n",
    "        tokens = [token.strip(punctuation) for token in tokens]\n",
    "        tokens = [token for token in tokens if token]\n",
    "        return tokens\n"
   ]
  },
  {
   "cell_type": "code",
   "execution_count": 12,
   "id": "b74af602",
   "metadata": {},
   "outputs": [],
   "source": [
    "MAX_LEN = 200"
   ]
  },
  {
   "cell_type": "code",
   "execution_count": 13,
   "id": "ad766f03",
   "metadata": {},
   "outputs": [],
   "source": [
    "texts = data.text.values\n",
    "id2label = {i:l for i,l in enumerate(set(data.topic))}\n",
    "label2id = {l:i for i,l in id2label.items()}\n",
    "targets = [label2id[l] for l in data.topic]"
   ]
  },
  {
   "cell_type": "code",
   "execution_count": 14,
   "id": "ec4f2a16",
   "metadata": {},
   "outputs": [],
   "source": [
    "train_texts, valid_texts, train_targets, valid_targets = train_test_split(texts, targets, test_size=0.05)"
   ]
  },
  {
   "cell_type": "code",
   "execution_count": 15,
   "id": "feac4865",
   "metadata": {},
   "outputs": [],
   "source": [
    "training_set = Dataset(word2id, MAX_LEN, train_texts, train_targets)\n",
    "training_generator = torch.utils.data.DataLoader(training_set, batch_size=256, shuffle=True)"
   ]
  },
  {
   "cell_type": "code",
   "execution_count": 16,
   "id": "662c934b",
   "metadata": {},
   "outputs": [],
   "source": [
    "valid_set = Dataset(word2id, MAX_LEN, valid_texts, valid_targets)\n",
    "valid_generator = torch.utils.data.DataLoader(valid_set, batch_size=256, shuffle=True)"
   ]
  },
  {
   "cell_type": "code",
   "execution_count": 17,
   "id": "061d8d88",
   "metadata": {},
   "outputs": [],
   "source": [
    "class EarlyStopping:\n",
    "    def __init__(self, delta):\n",
    "        self.best_score = None\n",
    "        self.early_stop = False\n",
    "        self.delta = delta\n",
    "\n",
    "    def __call__(self, f1_score, model):\n",
    "        if self.best_score is None:\n",
    "            self.best_score = f1_score\n",
    "            self.save_checkpoint(f1_score, model)\n",
    "        elif f1_score < self.best_score - self.delta:\n",
    "            self.early_stop = True\n",
    "        else:\n",
    "            self.best_score = f1_score\n",
    "            self.save_checkpoint(f1_score, model)\n",
    "\n",
    "    def save_checkpoint(self, f1_score, model):\n",
    "        print(f'Saving best model ...')\n",
    "        torch.save(model.state_dict(), 'checkpoint.pt')\n",
    "        self.best_score = f1_score"
   ]
  },
  {
   "cell_type": "code",
   "execution_count": 18,
   "id": "617c8e40",
   "metadata": {},
   "outputs": [],
   "source": [
    "from sklearn.metrics import f1_score\n",
    "\n",
    "def train(model, iterator, optimizer, criterion, print_every=1000):\n",
    "    epoch_loss = []\n",
    "    epoch_f1 = []\n",
    "    \n",
    "    model.train()\n",
    "\n",
    "    for i, (texts, ys) in enumerate(iterator):\n",
    "        optimizer.zero_grad()   \n",
    "        predictions = model(texts.to(device)).squeeze()  \n",
    "        loss = criterion(predictions, ys.to(device))        \n",
    "        \n",
    "        loss.backward()\n",
    "        optimizer.step()     \n",
    "        preds = predictions.detach().to('cpu').numpy().argmax(1).tolist()\n",
    "        y_true = ys.tolist()\n",
    "        \n",
    "        epoch_loss.append(loss.item())\n",
    "        f1 = f1_score(y_true, preds, average=\"micro\")\n",
    "        epoch_f1.append(f1)\n",
    "        \n",
    "        if not (i+1) % print_every:\n",
    "            print(f'Loss: {np.mean(epoch_loss)}; F1 measure: {np.mean(epoch_f1)}')\n",
    "    \n",
    "    mean_f1 = np.mean(epoch_f1)\n",
    "\n",
    "    return np.mean(epoch_f1)\n",
    "\n",
    "\n",
    "def evaluate(model, iterator, criterion):\n",
    "    epoch_loss = []\n",
    "    epoch_f1 = []\n",
    "    \n",
    "    model.eval()  \n",
    "    with torch.no_grad():\n",
    "        for texts, ys in iterator:\n",
    "            predictions = model(texts.to(device)).squeeze()  \n",
    "            loss = criterion(predictions, ys.to(device))        \n",
    "            preds = predictions.detach().to('cpu').numpy().argmax(1).tolist()\n",
    "            y_true = ys.tolist()\n",
    "\n",
    "            epoch_loss.append(loss.item())\n",
    "            f1 = f1_score(y_true, preds, average=\"micro\")\n",
    "            epoch_f1.append(f1)\n",
    "            \n",
    "    return np.mean(epoch_f1)"
   ]
  },
  {
   "cell_type": "code",
   "execution_count": 19,
   "id": "04684d93",
   "metadata": {},
   "outputs": [],
   "source": [
    "class MyModel(nn.Module):\n",
    "    def __init__(self, output_dim):\n",
    "        super().__init__()\n",
    "        self.VOCAB_SIZE = len(word2id)\n",
    "        self.EMB_DIM = 100\n",
    "        self.MAX_LEN = 200 \n",
    "        self.IN_100_CH = self.EMB_DIM \n",
    "        self.OUT_64_CH = 64 \n",
    "        self.OUT_32_CH = 32\n",
    "        self.OUT_16_CH = 16\n",
    "\n",
    "        self.embedding = nn.Embedding(self.VOCAB_SIZE, self.EMB_DIM)\n",
    "        \n",
    "        self.conv_1 = nn.Conv1d(self.IN_100_CH, \n",
    "                              self.OUT_64_CH, \n",
    "                              kernel_size=20, \n",
    "                              stride=2)\n",
    "        self.drop_1 = nn.Dropout(0.1)\n",
    "        self.pool_1 = nn.MaxPool1d(kernel_size=10, stride=2)\n",
    "\n",
    "        self.conv_2 = nn.Conv1d(self.OUT_64_CH, \n",
    "                              self.OUT_32_CH, \n",
    "                              kernel_size=10, \n",
    "                              stride=2)\n",
    "        self.drop_2 = nn.Dropout(0.2)\n",
    "        self.pool_2 = nn.MaxPool1d(kernel_size=5, stride=2)\n",
    "\n",
    "        self.conv_3 = nn.Conv1d(self.OUT_32_CH, \n",
    "                              self.OUT_64_CH, \n",
    "                              kernel_size=5, \n",
    "                              stride=1)\n",
    "        self.drop_3 = nn.Dropout(0.3)\n",
    "        self.pool_3 = nn.MaxPool1d(kernel_size=2, stride=1)\n",
    "        self.conv_4 = nn.Conv1d(self.OUT_64_CH, \n",
    "                              self.OUT_32_CH, \n",
    "                              kernel_size=1, \n",
    "                              stride=1)\n",
    "        self.pool_4 = nn.MaxPool1d(kernel_size=1, stride=1)\n",
    "        \n",
    "        self.relu = nn.ReLU() \n",
    "        \n",
    "        self.fc_1 = nn.Linear(self.OUT_32_CH, self.OUT_64_CH)\n",
    "        self.fc_2 = nn.Linear(self.OUT_64_CH, self.OUT_16_CH)\n",
    "        self.fc_3 = nn.Linear(self.OUT_64_CH, self.OUT_16_CH)\n",
    "        self.fc_4 = nn.Linear(self.OUT_32_CH, output_dim)\n",
    "\n",
    "        self.act = nn.LogSoftmax(1) \n",
    "        \n",
    "        \n",
    "    def forward(self, text):\n",
    "        embedded = self.embedding(text).permute(0, 2, 1)\n",
    "        convoluted = self.relu(self.conv_1(embedded))\n",
    "        dropped = self.drop_1(convoluted)\n",
    "        pooled = self.pool_1(dropped)\n",
    "\n",
    "        convoluted_2 = self.relu(self.conv_2(pooled)) \n",
    "        dropped_2 = self.drop_2(convoluted_2)\n",
    "        pooled_2 = self.pool_2(dropped_2)\n",
    "\n",
    "        convoluted_3 = self.relu(self.conv_3(pooled_2))\n",
    "        dropped_3 = self.drop_3(convoluted_3)\n",
    "        pooled_3 = self.pool_3(dropped_3)\n",
    "\n",
    "        convoluted_4 = self.relu(self.conv_4(pooled_3))\n",
    "        pooled_4 = self.pool_4(convoluted_4)\n",
    "\n",
    "        hidden_1 = torch.flatten(pooled_4, 1, -1) \n",
    "        hidden_2 = self.relu(self.fc_1(hidden_1)) \n",
    "\n",
    "        hidden_3 = self.relu(self.fc_2(hidden_2))\n",
    "        hidden_4 = self.relu(self.fc_3(hidden_2))\n",
    "        \n",
    "        parallel = torch.cat((hidden_3, hidden_4), dim=1)\n",
    "\n",
    "        dense_outputs = self.fc_4(parallel) \n",
    "        outputs=self.act(dense_outputs) \n",
    "        \n",
    "        return outputs\n",
    "\n",
    "\n",
    "device = torch.device('cuda' if torch.cuda.is_available() else 'cpu')  \n",
    "model = MyModel(len(label2id))\n",
    "\n",
    "\n",
    "optimizer = optim.Adam(model.parameters(), lr=0.001)\n",
    "criterion = nn.NLLLoss() \n",
    "model = model.to(device)\n",
    "criterion = criterion.to(device)"
   ]
  },
  {
   "cell_type": "code",
   "execution_count": 20,
   "id": "71ea948d",
   "metadata": {},
   "outputs": [
    {
     "name": "stdout",
     "output_type": "stream",
     "text": [
      "0\n",
      "Loss: 1.3443636059761048; F1 measure: 0.39453125\n",
      "Loss: 1.1072607588768006; F1 measure: 0.50966796875\n",
      "Loss: 0.948824396332105; F1 measure: 0.5922265625\n",
      "Loss: 0.8305940137058496; F1 measure: 0.6525\n",
      "Loss: 0.741199276983738; F1 measure: 0.6962578125\n",
      "Loss: 0.6703850431491931; F1 measure: 0.7294205729166666\n",
      "Loss: 0.6154280970352036; F1 measure: 0.7547712053571428\n",
      "Eval -  0.9133168743372216\n",
      "Saving best model ...\n",
      "1\n",
      "Loss: 0.20654176332056523; F1 measure: 0.93484375\n",
      "Loss: 0.2042227778956294; F1 measure: 0.93458984375\n",
      "Loss: 0.20175948351621628; F1 measure: 0.9353645833333334\n",
      "Loss: 0.20082653298974038; F1 measure: 0.935439453125\n",
      "Loss: 0.20117507530748843; F1 measure: 0.9348046875\n",
      "Loss: 0.19788729875038066; F1 measure: 0.9354166666666667\n",
      "Loss: 0.19439376748033932; F1 measure: 0.9363392857142857\n",
      "Eval -  0.9338008682396607\n",
      "Saving best model ...\n",
      "2\n",
      "Loss: 0.11621247254312038; F1 measure: 0.9612109375\n",
      "Loss: 0.1159632083773613; F1 measure: 0.9608984375\n",
      "Loss: 0.1167177789285779; F1 measure: 0.9607291666666666\n",
      "Loss: 0.11743841450661421; F1 measure: 0.960595703125\n",
      "Loss: 0.11869096378982068; F1 measure: 0.9603828125\n",
      "Loss: 0.11805786663045485; F1 measure: 0.9604427083333333\n",
      "Loss: 0.11850203756775175; F1 measure: 0.9600837053571428\n",
      "Eval -  0.93623657873807\n",
      "Saving best model ...\n",
      "3\n",
      "Loss: 0.06872769506648183; F1 measure: 0.9766015625\n",
      "Loss: 0.07191286130808294; F1 measure: 0.9751953125\n",
      "Loss: 0.07287959570686023; F1 measure: 0.9751432291666666\n",
      "Loss: 0.07419097021222115; F1 measure: 0.974736328125\n",
      "Loss: 0.07637830321118236; F1 measure: 0.974\n",
      "Loss: 0.07738393632384638; F1 measure: 0.9736393229166667\n",
      "Loss: 0.07910935348698071; F1 measure: 0.9731082589285714\n",
      "Eval -  0.9422305805938495\n",
      "Saving best model ...\n",
      "4\n",
      "Loss: 0.045032963315024974; F1 measure: 0.985234375\n",
      "Loss: 0.04702657989226282; F1 measure: 0.984453125\n",
      "Loss: 0.04971366924544175; F1 measure: 0.9833072916666666\n",
      "Loss: 0.04845487657468766; F1 measure: 0.98384765625\n",
      "Loss: 0.04854663615487516; F1 measure: 0.9840703125\n",
      "Loss: 0.04984602300915867; F1 measure: 0.9836328125\n",
      "Loss: 0.050961557365953924; F1 measure: 0.9831473214285714\n",
      "Eval -  0.9424211293743373\n",
      "Saving best model ...\n",
      "5\n",
      "Loss: 0.03252827122341841; F1 measure: 0.989296875\n",
      "Loss: 0.031209412696771324; F1 measure: 0.98958984375\n",
      "Loss: 0.03210684754885733; F1 measure: 0.9894661458333334\n",
      "Loss: 0.032771041879314; F1 measure: 0.989248046875\n",
      "Loss: 0.03460409355675802; F1 measure: 0.9886171875\n",
      "Loss: 0.0354698754781081; F1 measure: 0.9883723958333334\n",
      "Loss: 0.03590830492088571; F1 measure: 0.9881975446428571\n",
      "Eval -  0.9438585299575821\n",
      "Saving best model ...\n",
      "6\n",
      "Loss: 0.020332296008709817; F1 measure: 0.9932421875\n",
      "Loss: 0.02137751550413668; F1 measure: 0.99298828125\n",
      "Loss: 0.022865098770707845; F1 measure: 0.9926822916666667\n",
      "Loss: 0.023191803112858907; F1 measure: 0.99259765625\n",
      "Loss: 0.024247378900647164; F1 measure: 0.9922421875\n",
      "Loss: 0.025167049555263173; F1 measure: 0.9918880208333334\n",
      "Loss: 0.025010881159853723; F1 measure: 0.9919363839285714\n",
      "Eval -  0.9415429480381761\n",
      "F1 stopped increasing. Stopping training\n",
      "Saving best model ...\n"
     ]
    }
   ],
   "source": [
    "f1s = []\n",
    "f1s_eval = []\n",
    "\n",
    "earlystopping = EarlyStopping(delta=0.001)\n",
    "\n",
    "for i in range(10):\n",
    "    print(i)\n",
    "    f1s.append(train(model, training_generator, optimizer, criterion, 100))\n",
    "    evl_f1 = evaluate(model, valid_generator, criterion)\n",
    "    print('Eval - ', evl_f1)\n",
    "    f1s_eval.append(evl_f1)\n",
    "\n",
    "    earlystopping(evl_f1, model)\n",
    "    if earlystopping.early_stop:\n",
    "        print(\"F1 stopped increasing. Stopping training\")\n",
    "        earlystopping.save_checkpoint(evl_f1, model)\n",
    "        break"
   ]
  },
  {
   "cell_type": "code",
   "execution_count": 21,
   "id": "5d1b7a1c",
   "metadata": {},
   "outputs": [
    {
     "data": {
      "image/png": "[encoded data removed]",
      "text/plain": [
       "<Figure size 640x480 with 1 Axes>"
      ]
     },
     "metadata": {},
     "output_type": "display_data"
    }
   ],
   "source": [
    "plt.plot(f1s)\n",
    "plt.plot(f1s_eval)\n",
    "plt.title('model f1 micro')\n",
    "plt.ylabel('f1')\n",
    "plt.xlabel('epoch')\n",
    "plt.legend(['train', 'val'], loc='upper left')\n",
    "plt.show()"
   ]
  },
  {
   "cell_type": "code",
   "execution_count": 22,
   "id": "ec4b25fc",
   "metadata": {},
   "outputs": [
    {
     "data": {
      "text/plain": [
       "0.9438585299575821"
      ]
     },
     "execution_count": 22,
     "metadata": {},
     "output_type": "execute_result"
    }
   ],
   "source": [
    "max(f1s_eval)"
   ]
  }
 ],
 "metadata": {
  "kernelspec": {
   "display_name": "Python 3 (ipykernel)",
   "language": "python",
   "name": "python3"
  },
  "language_info": {
   "codemirror_mode": {
    "name": "ipython",
    "version": 3
   },
   "file_extension": ".py",
   "mimetype": "text/x-python",
   "name": "python",
   "nbconvert_exporter": "python",
   "pygments_lexer": "ipython3",
   "version": "3.8.10"
  }
 },
 "nbformat": 4,
 "nbformat_minor": 5
}
